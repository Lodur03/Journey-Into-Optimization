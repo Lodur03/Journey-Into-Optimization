{
 "cells": [
  {
   "cell_type": "markdown",
   "metadata": {},
   "source": [
    "# Otimização: Método de Newton e Quasi-Newton\n",
    "\n",
    "Minimizar funções do tipo $f\\left(x\\right)=exp({\\sum} _{i=1}^{n} x_{i}) +\\sum _{i=1}^{n} a_{i} x_{i}^{2} $. \n",
    "\n",
    "Para isso é utilizado o [método de Newton](https://en.wikipedia.org/wiki/Newton%27s_method), e também o método de [Barzilai-Browein](http://www.math.ucla.edu/~wotaoyin/math273a/slides/Lec4a_Baizilai_Borwein_method_273a_2015_f.pdf), que é um método [Quasi-Newton](https://en.wikipedia.org/wiki/Quasi-Newton_method).\n",
    "\n",
    "### Dependências"
   ]
  },
  {
   "cell_type": "code",
   "execution_count": 30,
   "metadata": {},
   "outputs": [],
   "source": [
    "import numpy as np\n",
    "import scipy as sp\n",
    "from scipy import optimize"
   ]
  },
  {
   "cell_type": "markdown",
   "metadata": {},
   "source": [
    "### Funções Auxiliares"
   ]
  },
  {
   "cell_type": "code",
   "execution_count": 41,
   "metadata": {},
   "outputs": [],
   "source": [
    "grad = lambda x: np.exp(np.sum(x))+2*np.multiply(A,x)\n",
    "apply_func = lambda x: np.exp(np.sum(x))+np.dot(A,np.multiply(x,x))\n",
    "hess = lambda x: 2*np.exp(np.sum(x))+np.diag(A)\n",
    "d_func = lambda h,g: -np.linalg.inv(h).dot(g)\n",
    "close_to_zero = lambda d: np.dot(d,d) <= 1e-8"
   ]
  },
  {
   "cell_type": "markdown",
   "metadata": {},
   "source": [
    "### Funções Principais\n",
    "\n",
    "**Método de Newton:**"
   ]
  },
  {
   "cell_type": "code",
   "execution_count": 67,
   "metadata": {},
   "outputs": [],
   "source": [
    "def newton(A, x, verbose = False):\n",
    "    \n",
    "    d = d_func(hess(x),grad(x))\n",
    "    k = 1\n",
    "    \n",
    "\n",
    "    while(close_to_zero(d) == False):\n",
    "        alpha = sp.optimize.line_search(apply_func,grad,x,d)[0]\n",
    "        x = x + alpha*d\n",
    "        d = d_func(hess(x),grad(x))\n",
    "        \n",
    "        if(verbose == True):\n",
    "            print('x = ', x, ' ( It ', k, ')')\n",
    "            \n",
    "        k += 1\n",
    "                \n",
    "    return x, d"
   ]
  },
  {
   "cell_type": "markdown",
   "metadata": {},
   "source": [
    "Testando a função:"
   ]
  },
  {
   "cell_type": "code",
   "execution_count": 68,
   "metadata": {},
   "outputs": [
    {
     "name": "stdout",
     "output_type": "stream",
     "text": [
      "---------------------------\n",
      "x final =  [-0.01080852 -0.04539577 -0.04126888]\n",
      "d final =  [1.35149384e-05 5.67627413e-05 5.16024921e-05]\n"
     ]
    }
   ],
   "source": [
    "A = np.array([42,10,11])\n",
    "x, d = newton(A, x = np.array([0,0,0]), verbose=False)\n",
    "print('---------------------------')\n",
    "print('x final = ', x)\n",
    "print('d final = ', d)"
   ]
  },
  {
   "cell_type": "markdown",
   "metadata": {},
   "source": [
    "**Barzilai-Browein:**"
   ]
  },
  {
   "cell_type": "code",
   "execution_count": 69,
   "metadata": {},
   "outputs": [],
   "source": [
    "def barzilai_browein(A, x, verbose = False):\n",
    "    \n",
    "    g = grad(x)\n",
    "    d = -g\n",
    "    alpha = sp.optimize.line_search(apply_func,grad,x,d)[0]\n",
    "    k = 1\n",
    "    \n",
    "    while(close_to_zero(d) == False):\n",
    "        next_x = x + alpha*d\n",
    "        next_g = grad(next_x)\n",
    "        s, y = (next_x - x),(next_g - g)\n",
    "        alpha = s.dot(y) / y.dot(y)\n",
    "        g = next_g\n",
    "        x = next_x\n",
    "        d = -g\n",
    "        \n",
    "        if(verbose == True):\n",
    "            print('x = ', x, ' ( It ', k, ')')\n",
    "            \n",
    "        k += 1\n",
    "                   \n",
    "    return x, d"
   ]
  },
  {
   "cell_type": "markdown",
   "metadata": {},
   "source": [
    "Testando a função:"
   ]
  },
  {
   "cell_type": "code",
   "execution_count": 70,
   "metadata": {},
   "outputs": [
    {
     "name": "stdout",
     "output_type": "stream",
     "text": [
      "---------------------------\n",
      "x final =  [-0.01079996 -0.04535986 -0.04123628]\n",
      "d final =  [-5.99220686e-08  5.89273975e-07  1.66642889e-06]\n"
     ]
    }
   ],
   "source": [
    "A = np.array([42,10,11])\n",
    "x, d = barzilai_browein(A, x = np.array([0,0,0]), verbose=False)\n",
    "print('---------------------------')\n",
    "print('x final = ', x)\n",
    "print('d final = ', d)"
   ]
  },
  {
   "cell_type": "markdown",
   "metadata": {},
   "source": [
    "## Experimentos\n",
    "\n",
    "Primeira com valores relativamente próximos:\n",
    "\n",
    "- Newton com valores próximos"
   ]
  },
  {
   "cell_type": "code",
   "execution_count": 71,
   "metadata": {},
   "outputs": [
    {
     "name": "stdout",
     "output_type": "stream",
     "text": [
      "x =  [-0.06896552 -0.17241379 -0.0862069 ]  ( It  1 )\n",
      "x =  [-0.07158288 -0.17895719 -0.0894786 ]  ( It  2 )\n",
      "x =  [-0.07123669 -0.17809173 -0.08904586]  ( It  3 )\n",
      "x =  [-0.07128438 -0.17821096 -0.08910548]  ( It  4 )\n",
      "---------------------------\n",
      "x final =  [-0.07128438 -0.17821096 -0.08910548]\n",
      "d final =  [6.53626879e-06 1.63406720e-05 8.17033599e-06]\n"
     ]
    }
   ],
   "source": [
    "A = np.array([5,2,4])\n",
    "x, d = newton(A, x = np.array([0,0,0]), verbose=True)\n",
    "print('---------------------------')\n",
    "print('x final = ', x)\n",
    "print('d final = ', d)"
   ]
  },
  {
   "cell_type": "markdown",
   "metadata": {},
   "source": [
    "- Barzilai Browein com valores próximos"
   ]
  },
  {
   "cell_type": "code",
   "execution_count": 72,
   "metadata": {},
   "outputs": [
    {
     "name": "stdout",
     "output_type": "stream",
     "text": [
      "x =  [-0.1149444 -0.1149444 -0.1149444]  ( It  1 )\n",
      "x =  [-0.07293882 -0.13861435 -0.09483066]  ( It  2 )\n",
      "x =  [-0.07361397 -0.15687551 -0.09256456]  ( It  3 )\n",
      "x =  [-0.07109103 -0.17680955 -0.08913687]  ( It  4 )\n",
      "x =  [-0.07174379 -0.17826888 -0.08930977]  ( It  5 )\n",
      "x =  [-0.07108296 -0.17816402 -0.08902615]  ( It  6 )\n",
      "x =  [-0.07127926 -0.17819517 -0.0890977 ]  ( It  7 )\n",
      "---------------------------\n",
      "x final =  [-0.07127926 -0.17819517 -0.0890977 ]\n",
      "d final =  [ 5.27024828e-06 -6.69336224e-06 -5.72899100e-06]\n"
     ]
    }
   ],
   "source": [
    "A = np.array([5,2,4])\n",
    "x, d = barzilai_browein(A, x = np.array([0,0,0]), verbose=True)\n",
    "print('---------------------------')\n",
    "print('x final = ', x)\n",
    "print('d final = ', d)"
   ]
  },
  {
   "cell_type": "markdown",
   "metadata": {},
   "source": [
    "E agora com valores mais discrepantes:\n",
    "    \n",
    "- Newton com valores discrepantes"
   ]
  },
  {
   "cell_type": "code",
   "execution_count": 73,
   "metadata": {},
   "outputs": [
    {
     "name": "stdout",
     "output_type": "stream",
     "text": [
      "x =  [-3.1248047e-05 -3.1248047e-02 -3.1248047e-01]  ( It  1 )\n",
      "x =  [-3.45344944e-05 -3.45344944e-02 -3.45344944e-01]  ( It  2 )\n",
      "x =  [-3.42642233e-05 -3.42642233e-02 -3.42642233e-01]  ( It  3 )\n",
      "x =  [-3.4291015e-05 -3.4291015e-02 -3.4291015e-01]  ( It  4 )\n",
      "---------------------------\n",
      "x final =  [-3.4291015e-05 -3.4291015e-02 -3.4291015e-01]\n",
      "d final =  [2.61924322e-09 2.61924322e-06 2.61924322e-05]\n"
     ]
    }
   ],
   "source": [
    "A = np.array([10000,10,1])\n",
    "x, d = newton(A, x = np.array([0,0,0]), verbose=True)\n",
    "print('---------------------------')\n",
    "print('x final = ', x)\n",
    "print('d final = ', d)"
   ]
  },
  {
   "cell_type": "markdown",
   "metadata": {},
   "source": [
    "- Barzilai-browein com valores discrepantes"
   ]
  },
  {
   "cell_type": "code",
   "execution_count": 74,
   "metadata": {},
   "outputs": [
    {
     "name": "stdout",
     "output_type": "stream",
     "text": [
      "x =  [-0.00014977 -0.00014977 -0.00014977]  ( It  1 )\n",
      "x =  [-4.98529832e-05 -1.99657892e-04 -1.99792851e-04]  ( It  2 )\n",
      "x =  [-4.99775740e-05 -2.49449420e-04 -2.49764107e-04]  ( It  3 )\n",
      "x =  [-4.91581929e-05 -8.35569461e-03 -8.39260463e-03]  ( It  4 )\n",
      "x =  [-5.84764598e-05 -5.08524061e-02 -5.87161332e-02]  ( It  5 )\n",
      "x =  [ 0.01357215 -0.04482496 -0.09754636]  ( It  6 )\n",
      "x =  [-6.05639055e-05 -4.48240917e-02 -9.75806025e-02]  ( It  7 )\n",
      "x =  [-4.33616352e-05 -4.48226286e-02 -9.76142038e-02]  ( It  8 )\n",
      "x =  [-4.33602358e-05 -4.48211654e-02 -9.76478193e-02]  ( It  9 )\n",
      "x =  [-3.35069996e-05 -3.44802325e-02 -3.35210880e-01]  ( It  10 )\n",
      "x =  [-0.00760491 -0.03496105 -0.34267964]  ( It  11 )\n",
      "x =  [-3.32208706e-05 -3.49601061e-02 -3.42679383e-01]  ( It  12 )\n",
      "x =  [-3.42727044e-05 -3.49594187e-02 -3.42679388e-01]  ( It  13 )\n",
      "x =  [-3.42727277e-05 -3.49587317e-02 -3.42679393e-01]  ( It  14 )\n",
      "x =  [-3.42952999e-05 -3.42961661e-02 -3.42684040e-01]  ( It  15 )\n",
      "x =  [-3.43015551e-05 -3.42953357e-02 -3.42710024e-01]  ( It  16 )\n",
      "x =  [-2.40903215e-05 -3.42940546e-02 -3.42743682e-01]  ( It  17 )\n",
      "x =  [-3.43080983e-05 -3.42940543e-02 -3.42743702e-01]  ( It  18 )\n",
      "x =  [-3.42933328e-05 -3.42940535e-02 -3.42743720e-01]  ( It  19 )\n",
      "x =  [-3.42933322e-05 -3.42940528e-02 -3.42743739e-01]  ( It  20 )\n",
      "x =  [-3.42886291e-05 -3.42886293e-02 -3.42886291e-01]  ( It  21 )\n",
      "---------------------------\n",
      "x final =  [-3.42886291e-05 -3.42886293e-02 -3.42886291e-01]\n",
      "d final =  [-6.44887843e-09 -3.77068554e-09 -6.34698838e-09]\n"
     ]
    }
   ],
   "source": [
    "A = np.array([10000,10,1])\n",
    "x, d = barzilai_browein(A, x = np.array([0,0,0]), verbose=True)\n",
    "print('---------------------------')\n",
    "print('x final = ', x)\n",
    "print('d final = ', d)"
   ]
  },
  {
   "cell_type": "markdown",
   "metadata": {},
   "source": [
    "## Conclusão"
   ]
  },
  {
   "cell_type": "markdown",
   "metadata": {},
   "source": [
    "Através dos experimentos conduzidos, podemos observar que há uma considerável diferença entre as iterações necessárias para os métodos (de Newton e Barzilai-browein) convergirem. Em particular, observa-se que o método de newton necessita de menos iterações para convergir.\n",
    "\n",
    "Todavia, é importante notar que a computação requerida para o método de newton é superior à computação requerida por Barzilai-browein e, desta forma, para problemas de maior escala pode ser preferível a aplicação do Barzilai-browein em relação ao método de Newton.\n",
    "\n",
    "O Newton propociona convergência quadrática, o que é melhor que a taxa de convergência dos métodos de gradiente (que possuem convergência linear)."
   ]
  },
  {
   "cell_type": "code",
   "execution_count": null,
   "metadata": {},
   "outputs": [],
   "source": []
  }
 ],
 "metadata": {
  "kernelspec": {
   "display_name": "Python 3",
   "language": "python",
   "name": "python3"
  },
  "language_info": {
   "codemirror_mode": {
    "name": "ipython",
    "version": 3
   },
   "file_extension": ".py",
   "mimetype": "text/x-python",
   "name": "python",
   "nbconvert_exporter": "python",
   "pygments_lexer": "ipython3",
   "version": "3.6.3"
  }
 },
 "nbformat": 4,
 "nbformat_minor": 2
}
